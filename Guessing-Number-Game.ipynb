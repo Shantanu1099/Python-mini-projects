{
 "cells": [
  {
   "cell_type": "code",
   "execution_count": 3,
   "metadata": {},
   "outputs": [
    {
     "name": "stdout",
     "output_type": "stream",
     "text": [
      "Enter the starting number: 2\n",
      "Enter the ending number: 3\n",
      "All right !! Let's GO... Guess the number b/w the range  2  to  3\n",
      "Write your Guess Here and Press 'ENTER' : 2\n",
      "Congratulation you won the game in  1  attempt.\n"
     ]
    },
    {
     "ename": "SystemExit",
     "evalue": "GameOver, Congratulations You Won. ",
     "output_type": "error",
     "traceback": [
      "An exception has occurred, use %tb to see the full traceback.\n",
      "\u001b[1;31mSystemExit\u001b[0m\u001b[1;31m:\u001b[0m GameOver, Congratulations You Won. \n"
     ]
    }
   ],
   "source": [
    "import random\n",
    "\n",
    "import sys\n",
    "\n",
    "num1 = int(input(\"Enter the starting number: \"))\n",
    "\n",
    "num2 = int(input(\"Enter the ending number: \"))\n",
    "\n",
    "randNum = random.randint(num1, num2)\n",
    "\n",
    "print(\"All right !! Let's GO... Guess the number b/w the range \", num1,\" to \", num2)\n",
    "\n",
    "chances = 0\n",
    "# guessNum = int(input(\"Write your Guess Here and Press 'ENTER' : \"))\n",
    "\n",
    "while num1 > 0 and num2 > 0:\n",
    "\n",
    "    chances+=1\n",
    "    \n",
    "    guessNum = int(input(\"Write your Guess Here and Press 'ENTER' : \"))\n",
    "    \n",
    "    if guessNum == randNum:\n",
    "        \n",
    "        print(\"Congratulation you won the game in \",chances  , \" attempt.\")\n",
    "        \n",
    "        sys.exit(\"GameOver, Congratulations You Won. \")\n",
    "    \n",
    "    elif guessNum > randNum:\n",
    "        \n",
    "        print(\"So close , yet so far !! Hint:- your guess is greater, Try Again\")\n",
    "    \n",
    "    else:\n",
    "        \n",
    "        print(\"So close , yet so far !! Hint:- your guess is smaller, Try Again\")\n"
   ]
  },
  {
   "cell_type": "code",
   "execution_count": null,
   "metadata": {},
   "outputs": [],
   "source": []
  }
 ],
 "metadata": {
  "kernelspec": {
   "display_name": "Python 3",
   "language": "python",
   "name": "python3"
  },
  "language_info": {
   "codemirror_mode": {
    "name": "ipython",
    "version": 3
   },
   "file_extension": ".py",
   "mimetype": "text/x-python",
   "name": "python",
   "nbconvert_exporter": "python",
   "pygments_lexer": "ipython3",
   "version": "3.8.5"
  }
 },
 "nbformat": 4,
 "nbformat_minor": 4
}
