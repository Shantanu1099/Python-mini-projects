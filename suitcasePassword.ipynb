{
 "cells": [
  {
   "cell_type": "code",
   "execution_count": 7,
   "metadata": {},
   "outputs": [
    {
     "name": "stdout",
     "output_type": "stream",
     "text": [
      "Enter your password 12345\n",
      "Access granted \n",
      "What kind of stupid person gives such stupid password to his own valuable suitcase \n"
     ]
    }
   ],
   "source": [
    "suitcase_password = open(\"secretSuitcase.txt\")\n",
    "readPassword = suitcase_password.read()\n",
    "password = input(\"Enter your password \")\n",
    "if password == readPassword:\n",
    "    print(\"Access granted \")\n",
    "    if password == '12345':\n",
    "        print(\"What kind of stupid person gives such stupid password to his own valuable suitcase \")\n",
    "else:\n",
    "    print(\"Access Denied \")\n",
    "    "
   ]
  },
  {
   "cell_type": "code",
   "execution_count": null,
   "metadata": {},
   "outputs": [],
   "source": []
  }
 ],
 "metadata": {
  "kernelspec": {
   "display_name": "Python 3",
   "language": "python",
   "name": "python3"
  },
  "language_info": {
   "codemirror_mode": {
    "name": "ipython",
    "version": 3
   },
   "file_extension": ".py",
   "mimetype": "text/x-python",
   "name": "python",
   "nbconvert_exporter": "python",
   "pygments_lexer": "ipython3",
   "version": "3.8.5"
  }
 },
 "nbformat": 4,
 "nbformat_minor": 4
}
